{
 "cells": [
  {
   "cell_type": "code",
   "execution_count": 1,
   "id": "7cc8aa81",
   "metadata": {},
   "outputs": [],
   "source": [
    "import pandas as pd\n",
    "import numpy as np\n",
    "import seaborn as sns\n",
    "import tensorflow as tf\n",
    "import matplotlib.pyplot as plt"
   ]
  },
  {
   "cell_type": "code",
   "execution_count": 6,
   "id": "b7a0dd23",
   "metadata": {},
   "outputs": [
    {
     "name": "stdout",
     "output_type": "stream",
     "text": [
      "<class 'pandas.core.frame.DataFrame'>\n",
      "RangeIndex: 8261 entries, 0 to 8260\n",
      "Data columns (total 9 columns):\n",
      " #   Column         Non-Null Count  Dtype \n",
      "---  ------         --------------  ----- \n",
      " 0   File_name_pic  8261 non-null   object\n",
      " 1   real_xml       8261 non-null   object\n",
      " 2   KL0            8261 non-null   int64 \n",
      " 3   KL1            8261 non-null   int64 \n",
      " 4   KL2            8261 non-null   int64 \n",
      " 5   KL3            8261 non-null   int64 \n",
      " 6   KL4            8261 non-null   int64 \n",
      " 7   KL_Grade       8261 non-null   int64 \n",
      " 8   fold           8261 non-null   int64 \n",
      "dtypes: int64(7), object(2)\n",
      "memory usage: 581.0+ KB\n"
     ]
    },
    {
     "data": {
      "text/html": [
       "<div>\n",
       "<style scoped>\n",
       "    .dataframe tbody tr th:only-of-type {\n",
       "        vertical-align: middle;\n",
       "    }\n",
       "\n",
       "    .dataframe tbody tr th {\n",
       "        vertical-align: top;\n",
       "    }\n",
       "\n",
       "    .dataframe thead th {\n",
       "        text-align: right;\n",
       "    }\n",
       "</style>\n",
       "<table border=\"1\" class=\"dataframe\">\n",
       "  <thead>\n",
       "    <tr style=\"text-align: right;\">\n",
       "      <th></th>\n",
       "      <th>File_name_pic</th>\n",
       "      <th>real_xml</th>\n",
       "      <th>KL0</th>\n",
       "      <th>KL1</th>\n",
       "      <th>KL2</th>\n",
       "      <th>KL3</th>\n",
       "      <th>KL4</th>\n",
       "      <th>KL_Grade</th>\n",
       "      <th>fold</th>\n",
       "    </tr>\n",
       "  </thead>\n",
       "  <tbody>\n",
       "    <tr>\n",
       "      <th>0</th>\n",
       "      <td>00000104_1.jpg</td>\n",
       "      <td>00000104_1.xml</td>\n",
       "      <td>1</td>\n",
       "      <td>0</td>\n",
       "      <td>0</td>\n",
       "      <td>0</td>\n",
       "      <td>0</td>\n",
       "      <td>0</td>\n",
       "      <td>5</td>\n",
       "    </tr>\n",
       "    <tr>\n",
       "      <th>1</th>\n",
       "      <td>00000104_2.jpg</td>\n",
       "      <td>00000104_2.xml</td>\n",
       "      <td>1</td>\n",
       "      <td>0</td>\n",
       "      <td>0</td>\n",
       "      <td>0</td>\n",
       "      <td>0</td>\n",
       "      <td>0</td>\n",
       "      <td>1</td>\n",
       "    </tr>\n",
       "    <tr>\n",
       "      <th>2</th>\n",
       "      <td>00000204_1.jpg</td>\n",
       "      <td>00000204_1.xml</td>\n",
       "      <td>1</td>\n",
       "      <td>0</td>\n",
       "      <td>0</td>\n",
       "      <td>0</td>\n",
       "      <td>0</td>\n",
       "      <td>0</td>\n",
       "      <td>5</td>\n",
       "    </tr>\n",
       "    <tr>\n",
       "      <th>3</th>\n",
       "      <td>00000204_2.jpg</td>\n",
       "      <td>00000204_2.xml</td>\n",
       "      <td>1</td>\n",
       "      <td>0</td>\n",
       "      <td>0</td>\n",
       "      <td>0</td>\n",
       "      <td>0</td>\n",
       "      <td>0</td>\n",
       "      <td>3</td>\n",
       "    </tr>\n",
       "    <tr>\n",
       "      <th>4</th>\n",
       "      <td>00000304_1.jpg</td>\n",
       "      <td>00000304_1.xml</td>\n",
       "      <td>0</td>\n",
       "      <td>0</td>\n",
       "      <td>1</td>\n",
       "      <td>0</td>\n",
       "      <td>0</td>\n",
       "      <td>2</td>\n",
       "      <td>5</td>\n",
       "    </tr>\n",
       "    <tr>\n",
       "      <th>...</th>\n",
       "      <td>...</td>\n",
       "      <td>...</td>\n",
       "      <td>...</td>\n",
       "      <td>...</td>\n",
       "      <td>...</td>\n",
       "      <td>...</td>\n",
       "      <td>...</td>\n",
       "      <td>...</td>\n",
       "      <td>...</td>\n",
       "    </tr>\n",
       "    <tr>\n",
       "      <th>8256</th>\n",
       "      <td>00000296_0.jpg</td>\n",
       "      <td>00000296_0.xml</td>\n",
       "      <td>0</td>\n",
       "      <td>0</td>\n",
       "      <td>0</td>\n",
       "      <td>0</td>\n",
       "      <td>1</td>\n",
       "      <td>4</td>\n",
       "      <td>2</td>\n",
       "    </tr>\n",
       "    <tr>\n",
       "      <th>8257</th>\n",
       "      <td>00000297_0.jpg</td>\n",
       "      <td>00000297_0.xml</td>\n",
       "      <td>0</td>\n",
       "      <td>0</td>\n",
       "      <td>0</td>\n",
       "      <td>0</td>\n",
       "      <td>1</td>\n",
       "      <td>4</td>\n",
       "      <td>4</td>\n",
       "    </tr>\n",
       "    <tr>\n",
       "      <th>8258</th>\n",
       "      <td>00000298_0.jpg</td>\n",
       "      <td>00000298_0.xml</td>\n",
       "      <td>0</td>\n",
       "      <td>0</td>\n",
       "      <td>0</td>\n",
       "      <td>0</td>\n",
       "      <td>1</td>\n",
       "      <td>4</td>\n",
       "      <td>2</td>\n",
       "    </tr>\n",
       "    <tr>\n",
       "      <th>8259</th>\n",
       "      <td>00000299_0.jpg</td>\n",
       "      <td>00000299_0.xml</td>\n",
       "      <td>0</td>\n",
       "      <td>0</td>\n",
       "      <td>0</td>\n",
       "      <td>0</td>\n",
       "      <td>1</td>\n",
       "      <td>4</td>\n",
       "      <td>2</td>\n",
       "    </tr>\n",
       "    <tr>\n",
       "      <th>8260</th>\n",
       "      <td>00000300_0.jpg</td>\n",
       "      <td>00000300_0.xml</td>\n",
       "      <td>0</td>\n",
       "      <td>0</td>\n",
       "      <td>0</td>\n",
       "      <td>0</td>\n",
       "      <td>1</td>\n",
       "      <td>4</td>\n",
       "      <td>4</td>\n",
       "    </tr>\n",
       "  </tbody>\n",
       "</table>\n",
       "<p>8261 rows × 9 columns</p>\n",
       "</div>"
      ],
      "text/plain": [
       "       File_name_pic        real_xml  KL0  KL1  KL2  KL3  KL4  KL_Grade  fold\n",
       "0     00000104_1.jpg  00000104_1.xml    1    0    0    0    0         0     5\n",
       "1     00000104_2.jpg  00000104_2.xml    1    0    0    0    0         0     1\n",
       "2     00000204_1.jpg  00000204_1.xml    1    0    0    0    0         0     5\n",
       "3     00000204_2.jpg  00000204_2.xml    1    0    0    0    0         0     3\n",
       "4     00000304_1.jpg  00000304_1.xml    0    0    1    0    0         2     5\n",
       "...              ...             ...  ...  ...  ...  ...  ...       ...   ...\n",
       "8256  00000296_0.jpg  00000296_0.xml    0    0    0    0    1         4     2\n",
       "8257  00000297_0.jpg  00000297_0.xml    0    0    0    0    1         4     4\n",
       "8258  00000298_0.jpg  00000298_0.xml    0    0    0    0    1         4     2\n",
       "8259  00000299_0.jpg  00000299_0.xml    0    0    0    0    1         4     2\n",
       "8260  00000300_0.jpg  00000300_0.xml    0    0    0    0    1         4     4\n",
       "\n",
       "[8261 rows x 9 columns]"
      ]
     },
     "execution_count": 6,
     "metadata": {},
     "output_type": "execute_result"
    }
   ],
   "source": [
    "df = pd.read_csv('./data/grade/KL_grade_kfold_FINAL.csv')\n",
    "df.info()\n",
    "df"
   ]
  },
  {
   "cell_type": "code",
   "execution_count": 7,
   "id": "290e37c9",
   "metadata": {},
   "outputs": [
    {
     "data": {
      "text/html": [
       "<div>\n",
       "<style scoped>\n",
       "    .dataframe tbody tr th:only-of-type {\n",
       "        vertical-align: middle;\n",
       "    }\n",
       "\n",
       "    .dataframe tbody tr th {\n",
       "        vertical-align: top;\n",
       "    }\n",
       "\n",
       "    .dataframe thead th {\n",
       "        text-align: right;\n",
       "    }\n",
       "</style>\n",
       "<table border=\"1\" class=\"dataframe\">\n",
       "  <thead>\n",
       "    <tr style=\"text-align: right;\">\n",
       "      <th></th>\n",
       "      <th>File_name_pic</th>\n",
       "      <th>real_xml</th>\n",
       "      <th>KL0</th>\n",
       "      <th>KL1</th>\n",
       "      <th>KL2</th>\n",
       "      <th>KL3</th>\n",
       "      <th>KL4</th>\n",
       "      <th>KL_Grade</th>\n",
       "    </tr>\n",
       "  </thead>\n",
       "  <tbody>\n",
       "    <tr>\n",
       "      <th>0</th>\n",
       "      <td>00000104_1.jpg</td>\n",
       "      <td>00000104_1.xml</td>\n",
       "      <td>1</td>\n",
       "      <td>0</td>\n",
       "      <td>0</td>\n",
       "      <td>0</td>\n",
       "      <td>0</td>\n",
       "      <td>0</td>\n",
       "    </tr>\n",
       "    <tr>\n",
       "      <th>1</th>\n",
       "      <td>00000104_2.jpg</td>\n",
       "      <td>00000104_2.xml</td>\n",
       "      <td>1</td>\n",
       "      <td>0</td>\n",
       "      <td>0</td>\n",
       "      <td>0</td>\n",
       "      <td>0</td>\n",
       "      <td>0</td>\n",
       "    </tr>\n",
       "    <tr>\n",
       "      <th>2</th>\n",
       "      <td>00000204_1.jpg</td>\n",
       "      <td>00000204_1.xml</td>\n",
       "      <td>1</td>\n",
       "      <td>0</td>\n",
       "      <td>0</td>\n",
       "      <td>0</td>\n",
       "      <td>0</td>\n",
       "      <td>0</td>\n",
       "    </tr>\n",
       "    <tr>\n",
       "      <th>3</th>\n",
       "      <td>00000204_2.jpg</td>\n",
       "      <td>00000204_2.xml</td>\n",
       "      <td>1</td>\n",
       "      <td>0</td>\n",
       "      <td>0</td>\n",
       "      <td>0</td>\n",
       "      <td>0</td>\n",
       "      <td>0</td>\n",
       "    </tr>\n",
       "    <tr>\n",
       "      <th>4</th>\n",
       "      <td>00000304_1.jpg</td>\n",
       "      <td>00000304_1.xml</td>\n",
       "      <td>0</td>\n",
       "      <td>0</td>\n",
       "      <td>1</td>\n",
       "      <td>0</td>\n",
       "      <td>0</td>\n",
       "      <td>2</td>\n",
       "    </tr>\n",
       "    <tr>\n",
       "      <th>...</th>\n",
       "      <td>...</td>\n",
       "      <td>...</td>\n",
       "      <td>...</td>\n",
       "      <td>...</td>\n",
       "      <td>...</td>\n",
       "      <td>...</td>\n",
       "      <td>...</td>\n",
       "      <td>...</td>\n",
       "    </tr>\n",
       "    <tr>\n",
       "      <th>8256</th>\n",
       "      <td>00000296_0.jpg</td>\n",
       "      <td>00000296_0.xml</td>\n",
       "      <td>0</td>\n",
       "      <td>0</td>\n",
       "      <td>0</td>\n",
       "      <td>0</td>\n",
       "      <td>1</td>\n",
       "      <td>4</td>\n",
       "    </tr>\n",
       "    <tr>\n",
       "      <th>8257</th>\n",
       "      <td>00000297_0.jpg</td>\n",
       "      <td>00000297_0.xml</td>\n",
       "      <td>0</td>\n",
       "      <td>0</td>\n",
       "      <td>0</td>\n",
       "      <td>0</td>\n",
       "      <td>1</td>\n",
       "      <td>4</td>\n",
       "    </tr>\n",
       "    <tr>\n",
       "      <th>8258</th>\n",
       "      <td>00000298_0.jpg</td>\n",
       "      <td>00000298_0.xml</td>\n",
       "      <td>0</td>\n",
       "      <td>0</td>\n",
       "      <td>0</td>\n",
       "      <td>0</td>\n",
       "      <td>1</td>\n",
       "      <td>4</td>\n",
       "    </tr>\n",
       "    <tr>\n",
       "      <th>8259</th>\n",
       "      <td>00000299_0.jpg</td>\n",
       "      <td>00000299_0.xml</td>\n",
       "      <td>0</td>\n",
       "      <td>0</td>\n",
       "      <td>0</td>\n",
       "      <td>0</td>\n",
       "      <td>1</td>\n",
       "      <td>4</td>\n",
       "    </tr>\n",
       "    <tr>\n",
       "      <th>8260</th>\n",
       "      <td>00000300_0.jpg</td>\n",
       "      <td>00000300_0.xml</td>\n",
       "      <td>0</td>\n",
       "      <td>0</td>\n",
       "      <td>0</td>\n",
       "      <td>0</td>\n",
       "      <td>1</td>\n",
       "      <td>4</td>\n",
       "    </tr>\n",
       "  </tbody>\n",
       "</table>\n",
       "<p>8261 rows × 8 columns</p>\n",
       "</div>"
      ],
      "text/plain": [
       "       File_name_pic        real_xml  KL0  KL1  KL2  KL3  KL4  KL_Grade\n",
       "0     00000104_1.jpg  00000104_1.xml    1    0    0    0    0         0\n",
       "1     00000104_2.jpg  00000104_2.xml    1    0    0    0    0         0\n",
       "2     00000204_1.jpg  00000204_1.xml    1    0    0    0    0         0\n",
       "3     00000204_2.jpg  00000204_2.xml    1    0    0    0    0         0\n",
       "4     00000304_1.jpg  00000304_1.xml    0    0    1    0    0         2\n",
       "...              ...             ...  ...  ...  ...  ...  ...       ...\n",
       "8256  00000296_0.jpg  00000296_0.xml    0    0    0    0    1         4\n",
       "8257  00000297_0.jpg  00000297_0.xml    0    0    0    0    1         4\n",
       "8258  00000298_0.jpg  00000298_0.xml    0    0    0    0    1         4\n",
       "8259  00000299_0.jpg  00000299_0.xml    0    0    0    0    1         4\n",
       "8260  00000300_0.jpg  00000300_0.xml    0    0    0    0    1         4\n",
       "\n",
       "[8261 rows x 8 columns]"
      ]
     },
     "execution_count": 7,
     "metadata": {},
     "output_type": "execute_result"
    }
   ],
   "source": [
    "df_temp = df.drop(['fold'], axis =1)\n",
    "df_temp"
   ]
  },
  {
   "cell_type": "code",
   "execution_count": 8,
   "id": "de95e287",
   "metadata": {
    "scrolled": false
   },
   "outputs": [
    {
     "data": {
      "text/html": [
       "<div>\n",
       "<style scoped>\n",
       "    .dataframe tbody tr th:only-of-type {\n",
       "        vertical-align: middle;\n",
       "    }\n",
       "\n",
       "    .dataframe tbody tr th {\n",
       "        vertical-align: top;\n",
       "    }\n",
       "\n",
       "    .dataframe thead th {\n",
       "        text-align: right;\n",
       "    }\n",
       "</style>\n",
       "<table border=\"1\" class=\"dataframe\">\n",
       "  <thead>\n",
       "    <tr style=\"text-align: right;\">\n",
       "      <th></th>\n",
       "      <th>File_name_pic</th>\n",
       "      <th>real_xml</th>\n",
       "      <th>KL0</th>\n",
       "      <th>KL1</th>\n",
       "      <th>KL2</th>\n",
       "      <th>KL3</th>\n",
       "      <th>KL4</th>\n",
       "      <th>KL_Grade</th>\n",
       "    </tr>\n",
       "  </thead>\n",
       "  <tbody>\n",
       "    <tr>\n",
       "      <th>0</th>\n",
       "      <td>00000104_1.jpg</td>\n",
       "      <td>00000104_1.xml</td>\n",
       "      <td>1</td>\n",
       "      <td>0</td>\n",
       "      <td>0</td>\n",
       "      <td>0</td>\n",
       "      <td>0</td>\n",
       "      <td>0</td>\n",
       "    </tr>\n",
       "    <tr>\n",
       "      <th>1</th>\n",
       "      <td>00000104_2.jpg</td>\n",
       "      <td>00000104_2.xml</td>\n",
       "      <td>1</td>\n",
       "      <td>0</td>\n",
       "      <td>0</td>\n",
       "      <td>0</td>\n",
       "      <td>0</td>\n",
       "      <td>0</td>\n",
       "    </tr>\n",
       "    <tr>\n",
       "      <th>2</th>\n",
       "      <td>00000204_1.jpg</td>\n",
       "      <td>00000204_1.xml</td>\n",
       "      <td>1</td>\n",
       "      <td>0</td>\n",
       "      <td>0</td>\n",
       "      <td>0</td>\n",
       "      <td>0</td>\n",
       "      <td>0</td>\n",
       "    </tr>\n",
       "    <tr>\n",
       "      <th>3</th>\n",
       "      <td>00000204_2.jpg</td>\n",
       "      <td>00000204_2.xml</td>\n",
       "      <td>1</td>\n",
       "      <td>0</td>\n",
       "      <td>0</td>\n",
       "      <td>0</td>\n",
       "      <td>0</td>\n",
       "      <td>0</td>\n",
       "    </tr>\n",
       "    <tr>\n",
       "      <th>4</th>\n",
       "      <td>00000304_1.jpg</td>\n",
       "      <td>00000304_1.xml</td>\n",
       "      <td>0</td>\n",
       "      <td>0</td>\n",
       "      <td>1</td>\n",
       "      <td>0</td>\n",
       "      <td>0</td>\n",
       "      <td>2</td>\n",
       "    </tr>\n",
       "    <tr>\n",
       "      <th>...</th>\n",
       "      <td>...</td>\n",
       "      <td>...</td>\n",
       "      <td>...</td>\n",
       "      <td>...</td>\n",
       "      <td>...</td>\n",
       "      <td>...</td>\n",
       "      <td>...</td>\n",
       "      <td>...</td>\n",
       "    </tr>\n",
       "    <tr>\n",
       "      <th>8256</th>\n",
       "      <td>00000296_0.jpg</td>\n",
       "      <td>00000296_0.xml</td>\n",
       "      <td>0</td>\n",
       "      <td>0</td>\n",
       "      <td>0</td>\n",
       "      <td>0</td>\n",
       "      <td>1</td>\n",
       "      <td>4</td>\n",
       "    </tr>\n",
       "    <tr>\n",
       "      <th>8257</th>\n",
       "      <td>00000297_0.jpg</td>\n",
       "      <td>00000297_0.xml</td>\n",
       "      <td>0</td>\n",
       "      <td>0</td>\n",
       "      <td>0</td>\n",
       "      <td>0</td>\n",
       "      <td>1</td>\n",
       "      <td>4</td>\n",
       "    </tr>\n",
       "    <tr>\n",
       "      <th>8258</th>\n",
       "      <td>00000298_0.jpg</td>\n",
       "      <td>00000298_0.xml</td>\n",
       "      <td>0</td>\n",
       "      <td>0</td>\n",
       "      <td>0</td>\n",
       "      <td>0</td>\n",
       "      <td>1</td>\n",
       "      <td>4</td>\n",
       "    </tr>\n",
       "    <tr>\n",
       "      <th>8259</th>\n",
       "      <td>00000299_0.jpg</td>\n",
       "      <td>00000299_0.xml</td>\n",
       "      <td>0</td>\n",
       "      <td>0</td>\n",
       "      <td>0</td>\n",
       "      <td>0</td>\n",
       "      <td>1</td>\n",
       "      <td>4</td>\n",
       "    </tr>\n",
       "    <tr>\n",
       "      <th>8260</th>\n",
       "      <td>00000300_0.jpg</td>\n",
       "      <td>00000300_0.xml</td>\n",
       "      <td>0</td>\n",
       "      <td>0</td>\n",
       "      <td>0</td>\n",
       "      <td>0</td>\n",
       "      <td>1</td>\n",
       "      <td>4</td>\n",
       "    </tr>\n",
       "  </tbody>\n",
       "</table>\n",
       "<p>5452 rows × 8 columns</p>\n",
       "</div>"
      ],
      "text/plain": [
       "       File_name_pic        real_xml  KL0  KL1  KL2  KL3  KL4  KL_Grade\n",
       "0     00000104_1.jpg  00000104_1.xml    1    0    0    0    0         0\n",
       "1     00000104_2.jpg  00000104_2.xml    1    0    0    0    0         0\n",
       "2     00000204_1.jpg  00000204_1.xml    1    0    0    0    0         0\n",
       "3     00000204_2.jpg  00000204_2.xml    1    0    0    0    0         0\n",
       "4     00000304_1.jpg  00000304_1.xml    0    0    1    0    0         2\n",
       "...              ...             ...  ...  ...  ...  ...  ...       ...\n",
       "8256  00000296_0.jpg  00000296_0.xml    0    0    0    0    1         4\n",
       "8257  00000297_0.jpg  00000297_0.xml    0    0    0    0    1         4\n",
       "8258  00000298_0.jpg  00000298_0.xml    0    0    0    0    1         4\n",
       "8259  00000299_0.jpg  00000299_0.xml    0    0    0    0    1         4\n",
       "8260  00000300_0.jpg  00000300_0.xml    0    0    0    0    1         4\n",
       "\n",
       "[5452 rows x 8 columns]"
      ]
     },
     "execution_count": 8,
     "metadata": {},
     "output_type": "execute_result"
    }
   ],
   "source": [
    "df_idx = df_temp[df_temp['KL_Grade']==1].index\n",
    "df_temp = df_temp.drop(df_idx)\n",
    "df_idx = (df_temp[df_temp['KL_Grade']==3]).index\n",
    "df_temp = df_temp.drop(df_idx)\n",
    "# for i in range(len(df)):\n",
    "#     if df.iloc[i, 'grade'] == 3:\n",
    "        \n",
    "#df_temp = df.drop([3], level = 6)\n",
    "df_temp"
   ]
  },
  {
   "cell_type": "code",
   "execution_count": 9,
   "id": "44c2ec19",
   "metadata": {},
   "outputs": [
    {
     "data": {
      "text/html": [
       "<div>\n",
       "<style scoped>\n",
       "    .dataframe tbody tr th:only-of-type {\n",
       "        vertical-align: middle;\n",
       "    }\n",
       "\n",
       "    .dataframe tbody tr th {\n",
       "        vertical-align: top;\n",
       "    }\n",
       "\n",
       "    .dataframe thead th {\n",
       "        text-align: right;\n",
       "    }\n",
       "</style>\n",
       "<table border=\"1\" class=\"dataframe\">\n",
       "  <thead>\n",
       "    <tr style=\"text-align: right;\">\n",
       "      <th></th>\n",
       "      <th>File_name_pic</th>\n",
       "      <th>real_xml</th>\n",
       "      <th>KL0</th>\n",
       "      <th>KL1</th>\n",
       "      <th>KL2</th>\n",
       "      <th>KL3</th>\n",
       "      <th>KL4</th>\n",
       "      <th>KL_Grade</th>\n",
       "    </tr>\n",
       "  </thead>\n",
       "  <tbody>\n",
       "    <tr>\n",
       "      <th>0</th>\n",
       "      <td>00000104_1.jpg</td>\n",
       "      <td>00000104_1.xml</td>\n",
       "      <td>1</td>\n",
       "      <td>0</td>\n",
       "      <td>0</td>\n",
       "      <td>0</td>\n",
       "      <td>0</td>\n",
       "      <td>0</td>\n",
       "    </tr>\n",
       "    <tr>\n",
       "      <th>1</th>\n",
       "      <td>00000104_2.jpg</td>\n",
       "      <td>00000104_2.xml</td>\n",
       "      <td>1</td>\n",
       "      <td>0</td>\n",
       "      <td>0</td>\n",
       "      <td>0</td>\n",
       "      <td>0</td>\n",
       "      <td>0</td>\n",
       "    </tr>\n",
       "    <tr>\n",
       "      <th>2</th>\n",
       "      <td>00000204_1.jpg</td>\n",
       "      <td>00000204_1.xml</td>\n",
       "      <td>1</td>\n",
       "      <td>0</td>\n",
       "      <td>0</td>\n",
       "      <td>0</td>\n",
       "      <td>0</td>\n",
       "      <td>0</td>\n",
       "    </tr>\n",
       "    <tr>\n",
       "      <th>3</th>\n",
       "      <td>00000204_2.jpg</td>\n",
       "      <td>00000204_2.xml</td>\n",
       "      <td>1</td>\n",
       "      <td>0</td>\n",
       "      <td>0</td>\n",
       "      <td>0</td>\n",
       "      <td>0</td>\n",
       "      <td>0</td>\n",
       "    </tr>\n",
       "    <tr>\n",
       "      <th>4</th>\n",
       "      <td>00000304_1.jpg</td>\n",
       "      <td>00000304_1.xml</td>\n",
       "      <td>0</td>\n",
       "      <td>0</td>\n",
       "      <td>1</td>\n",
       "      <td>0</td>\n",
       "      <td>0</td>\n",
       "      <td>2</td>\n",
       "    </tr>\n",
       "    <tr>\n",
       "      <th>...</th>\n",
       "      <td>...</td>\n",
       "      <td>...</td>\n",
       "      <td>...</td>\n",
       "      <td>...</td>\n",
       "      <td>...</td>\n",
       "      <td>...</td>\n",
       "      <td>...</td>\n",
       "      <td>...</td>\n",
       "    </tr>\n",
       "    <tr>\n",
       "      <th>5447</th>\n",
       "      <td>00000296_0.jpg</td>\n",
       "      <td>00000296_0.xml</td>\n",
       "      <td>0</td>\n",
       "      <td>0</td>\n",
       "      <td>0</td>\n",
       "      <td>0</td>\n",
       "      <td>1</td>\n",
       "      <td>4</td>\n",
       "    </tr>\n",
       "    <tr>\n",
       "      <th>5448</th>\n",
       "      <td>00000297_0.jpg</td>\n",
       "      <td>00000297_0.xml</td>\n",
       "      <td>0</td>\n",
       "      <td>0</td>\n",
       "      <td>0</td>\n",
       "      <td>0</td>\n",
       "      <td>1</td>\n",
       "      <td>4</td>\n",
       "    </tr>\n",
       "    <tr>\n",
       "      <th>5449</th>\n",
       "      <td>00000298_0.jpg</td>\n",
       "      <td>00000298_0.xml</td>\n",
       "      <td>0</td>\n",
       "      <td>0</td>\n",
       "      <td>0</td>\n",
       "      <td>0</td>\n",
       "      <td>1</td>\n",
       "      <td>4</td>\n",
       "    </tr>\n",
       "    <tr>\n",
       "      <th>5450</th>\n",
       "      <td>00000299_0.jpg</td>\n",
       "      <td>00000299_0.xml</td>\n",
       "      <td>0</td>\n",
       "      <td>0</td>\n",
       "      <td>0</td>\n",
       "      <td>0</td>\n",
       "      <td>1</td>\n",
       "      <td>4</td>\n",
       "    </tr>\n",
       "    <tr>\n",
       "      <th>5451</th>\n",
       "      <td>00000300_0.jpg</td>\n",
       "      <td>00000300_0.xml</td>\n",
       "      <td>0</td>\n",
       "      <td>0</td>\n",
       "      <td>0</td>\n",
       "      <td>0</td>\n",
       "      <td>1</td>\n",
       "      <td>4</td>\n",
       "    </tr>\n",
       "  </tbody>\n",
       "</table>\n",
       "<p>5452 rows × 8 columns</p>\n",
       "</div>"
      ],
      "text/plain": [
       "       File_name_pic        real_xml  KL0  KL1  KL2  KL3  KL4  KL_Grade\n",
       "0     00000104_1.jpg  00000104_1.xml    1    0    0    0    0         0\n",
       "1     00000104_2.jpg  00000104_2.xml    1    0    0    0    0         0\n",
       "2     00000204_1.jpg  00000204_1.xml    1    0    0    0    0         0\n",
       "3     00000204_2.jpg  00000204_2.xml    1    0    0    0    0         0\n",
       "4     00000304_1.jpg  00000304_1.xml    0    0    1    0    0         2\n",
       "...              ...             ...  ...  ...  ...  ...  ...       ...\n",
       "5447  00000296_0.jpg  00000296_0.xml    0    0    0    0    1         4\n",
       "5448  00000297_0.jpg  00000297_0.xml    0    0    0    0    1         4\n",
       "5449  00000298_0.jpg  00000298_0.xml    0    0    0    0    1         4\n",
       "5450  00000299_0.jpg  00000299_0.xml    0    0    0    0    1         4\n",
       "5451  00000300_0.jpg  00000300_0.xml    0    0    0    0    1         4\n",
       "\n",
       "[5452 rows x 8 columns]"
      ]
     },
     "execution_count": 9,
     "metadata": {},
     "output_type": "execute_result"
    }
   ],
   "source": [
    "df_temp = df_temp.reset_index(drop=True)\n",
    "df_temp"
   ]
  },
  {
   "cell_type": "code",
   "execution_count": null,
   "id": "acf0f1d3",
   "metadata": {},
   "outputs": [],
   "source": []
  },
  {
   "cell_type": "code",
   "execution_count": 10,
   "id": "2a1da90d",
   "metadata": {
    "scrolled": true
   },
   "outputs": [
    {
     "name": "stdout",
     "output_type": "stream",
     "text": [
      "0    2507\n",
      "2    2352\n",
      "4     593\n",
      "Name: KL_Grade, dtype: int64\n"
     ]
    }
   ],
   "source": [
    "print(df_temp['KL_Grade'].value_counts().sort_index())\n",
    "\n",
    "# print('Grade 0 : {}'.format((df['KL0']==1).sum()))\n",
    "# print('Grade 1 : {}'.format((df['KL1']==1).sum()))\n",
    "# print('Grade 2 : {}'.format((df['KL2']==1).sum()))\n",
    "# print('Grade 3 : {}'.format((df['KL3']==1).sum()))\n",
    "# print('Grade 4 : {}'.format((df['KL4']==1).sum()))"
   ]
  },
  {
   "cell_type": "code",
   "execution_count": 11,
   "id": "6143936a",
   "metadata": {},
   "outputs": [
    {
     "data": {
      "text/plain": [
       "([<matplotlib.axis.XTick at 0x2188629e4e0>,\n",
       "  <matplotlib.axis.XTick at 0x2188629e0b8>,\n",
       "  <matplotlib.axis.XTick at 0x21886296d30>],\n",
       " [Text(0, 0, '0'), Text(1, 0, '2'), Text(2, 0, '4')])"
      ]
     },
     "execution_count": 11,
     "metadata": {},
     "output_type": "execute_result"
    },
    {
     "data": {
      "image/png": "[encoded data removed]",
      "text/plain": [
       "<Figure size 432x288 with 1 Axes>"
      ]
     },
     "metadata": {
      "needs_background": "light"
     },
     "output_type": "display_data"
    }
   ],
   "source": [
    "grade_count = df_temp['KL_Grade'].value_counts().sort_index()\n",
    "plt.bar(range(len(grade_count)), grade_count.values, align='center')\n",
    "plt.xticks(range(len(grade_count)), grade_count.index.values)\n",
    "\n",
    "# grade_counts = pd.DataFrame(grade_count)\n",
    "# grade_counts\n",
    "# grade_counts = grade_counts.astype(np.int16)\n",
    "# grade_counts.columns=['counts']  \n",
    "# grade_counts"
   ]
  },
  {
   "cell_type": "code",
   "execution_count": 12,
   "id": "24a4b83d",
   "metadata": {},
   "outputs": [],
   "source": [
    "import os\n",
    "from glob import glob # 이미지 경로, 확장명만 알려주고 불러오는 함수 "
   ]
  },
  {
   "cell_type": "code",
   "execution_count": 13,
   "id": "70903bb5",
   "metadata": {},
   "outputs": [
    {
     "data": {
      "text/plain": [
       "'C:\\\\PythonAI_Project\\\\Workspace'"
      ]
     },
     "execution_count": 13,
     "metadata": {},
     "output_type": "execute_result"
    }
   ],
   "source": [
    "os.getcwd()"
   ]
  },
  {
   "cell_type": "code",
   "execution_count": 14,
   "id": "cd125350",
   "metadata": {},
   "outputs": [],
   "source": [
    "image_dir = '../../labelling/'\n",
    "bbox_dir = '../../labelling/'"
   ]
  },
  {
   "cell_type": "code",
   "execution_count": 15,
   "id": "1ae08906",
   "metadata": {},
   "outputs": [
    {
     "data": {
      "text/plain": [
       "8261"
      ]
     },
     "execution_count": 15,
     "metadata": {},
     "output_type": "execute_result"
    }
   ],
   "source": [
    "image_files=glob(image_dir + '*.jpg')\n",
    "len(image_files)"
   ]
  },
  {
   "cell_type": "code",
   "execution_count": 16,
   "id": "35387786",
   "metadata": {},
   "outputs": [
    {
     "data": {
      "text/plain": [
       "8261"
      ]
     },
     "execution_count": 16,
     "metadata": {},
     "output_type": "execute_result"
    }
   ],
   "source": [
    "bbox_files = glob(bbox_dir + \"*.xml\")\n",
    "len(bbox_files)"
   ]
  },
  {
   "cell_type": "code",
   "execution_count": 17,
   "id": "5d7dde33",
   "metadata": {},
   "outputs": [],
   "source": [
    "import cv2   # 영상이나 이미지를 다룰때 필수로 이용하는 라이브러리 openCV\n",
    "import xml.etree.ElementTree as et   # 파싱하는 용도 xml 파일을 분석하기 위한 라이브러리\n",
    "from matplotlib.patches import Rectangle # 박스 쳐주는 도구"
   ]
  },
  {
   "cell_type": "code",
   "execution_count": 18,
   "id": "62d3f99c",
   "metadata": {},
   "outputs": [],
   "source": [
    "# 임의의 파일 설정\n",
    "test = 40"
   ]
  },
  {
   "cell_type": "markdown",
   "id": "9deee7af",
   "metadata": {},
   "source": [
    "image_path = image_files[test]  #test 파일 임의 설정\n",
    "bbox_path = bbox_files[test]\n",
    "image = cv2.imread(image_path)\n",
    "image = cv2.cvtColor(image, cv2.COLOR_BGR2RGB)\n",
    "\n",
    "print(bbox_path)\n",
    "tree = et.parse(bbox_path)\n",
    "\n",
    "xmin = float(tree.find('./object/bndbox/xmin').text)\n",
    "xmax = float(tree.find('./object/bndbox/xmax').text)\n",
    "ymin = float(tree.find('./object/bndbox/ymin').text)\n",
    "ymax = float(tree.find('./object/bndbox/ymax').text)\n",
    "\n",
    "rect_x = xmin\n",
    "rect_y = ymin\n",
    "rect_w = xmax - xmin\n",
    "rect_h = ymax - ymin\n",
    "\n",
    "rect = Rectangle((rect_x, rect_y), rect_w, rect_h, fill=False, color='red')\n",
    "plt.axes().add_patch(rect)\n",
    "plt.imshow(image)\n",
    "plt.show()"
   ]
  },
  {
   "cell_type": "code",
   "execution_count": 19,
   "id": "551119f0",
   "metadata": {},
   "outputs": [],
   "source": [
    "#!pip install sklearn"
   ]
  },
  {
   "cell_type": "code",
   "execution_count": 20,
   "id": "dbeaa888",
   "metadata": {
    "scrolled": true
   },
   "outputs": [],
   "source": [
    "from sklearn.model_selection import KFold"
   ]
  },
  {
   "cell_type": "code",
   "execution_count": 21,
   "id": "562127cc",
   "metadata": {},
   "outputs": [],
   "source": [
    "''' KFold 속성  // data를 분류해주는 작업 // 숫자를 적어주지 않으면 매번 분류가 달라지기 때문에 숫자를 고정해줘야 매번 같은 data로 분류됨\n",
    " n_split : 몇개로 분할할지  // 보통 3, 5, 10 을 사용한다.\n",
    " shuffle : Fold를 나누기 전에 무작위로 섞을지\n",
    " random_state : 나눈 Fold를 그대로 사용할지\n",
    "'''\n",
    "#kf = KFold(n_splits=5, shuffle=True, random_state=42) kf = KFold(n_splits=5, shuffle=True, random_state=42)  \n",
    "# df['fold'] = -1  #초기화\n",
    "# ''' 저 t,v 가 train / validation 의 약자 인가요? for문 해석좀 해주세요.   // split을 많이 하면 할수록 유리한가?'''\n",
    "# for idx, (t,v) in enumerate(kf.split(df),1):            \n",
    "#     print(t,v, len(v))\n",
    "#     df.loc[v,'fold'] = idx\n",
    "\n",
    "pass"
   ]
  },
  {
   "cell_type": "code",
   "execution_count": 22,
   "id": "dd913fab",
   "metadata": {},
   "outputs": [],
   "source": [
    "# print(len(df[df['fold']==1]))  # 하나의 분류에 몇개가 들어가있는가\n",
    "# print(len(df[df['fold']!=1]))"
   ]
  },
  {
   "cell_type": "code",
   "execution_count": 23,
   "id": "de09b36a",
   "metadata": {},
   "outputs": [],
   "source": [
    "# grade_counts=df[df['fold'] == 1]['grade'].value_counts().sort_index()\n",
    "# grade_counts\n",
    "# plt.bar(range(len(grade_counts)), grade_counts.values, align='center')\n",
    "# plt.xticks(range(len(grade_counts)),grade_counts.index.values)\n",
    "\n",
    "# plt.tight_layout()\n",
    "# plt.show()"
   ]
  },
  {
   "cell_type": "code",
   "execution_count": 24,
   "id": "727e9237",
   "metadata": {},
   "outputs": [],
   "source": [
    "from sklearn.model_selection import StratifiedKFold"
   ]
  },
  {
   "cell_type": "code",
   "execution_count": 25,
   "id": "afaf402a",
   "metadata": {},
   "outputs": [
    {
     "name": "stdout",
     "output_type": "stream",
     "text": [
      "[   0    2    3 ... 5448 5449 5451] [   1   11   12 ... 5444 5445 5450] 1091\n",
      "[   0    1    2 ... 5448 5450 5451] [   8   13   14 ... 5442 5446 5449] 1091\n",
      "[   0    1    2 ... 5449 5450 5451] [   3    7    9 ... 5435 5441 5447] 1090\n",
      "[   0    1    2 ... 5447 5449 5450] [   5    6   10 ... 5443 5448 5451] 1090\n",
      "[   1    3    5 ... 5449 5450 5451] [   0    2    4 ... 5430 5432 5439] 1090\n"
     ]
    }
   ],
   "source": [
    "# n_split : 몇개로 분할할지\n",
    "# shuffle : Fold를 나누기 전에 무작위로 섞을지\n",
    "# random_state : 나눈 Fold를 그대로 사용할지\n",
    "skf = StratifiedKFold(n_splits=5, shuffle=True, random_state=42)\n",
    "df['fold'] = -1\n",
    "for idx, (t, v) in enumerate(skf.split(df_temp, df_temp['KL_Grade']), 1):\n",
    "    print(t, v, len(v))\n",
    "    df_temp.loc[v, 'fold'] = idx\n",
    "    \n",
    "    "
   ]
  },
  {
   "cell_type": "code",
   "execution_count": 26,
   "id": "5efa1778",
   "metadata": {},
   "outputs": [
    {
     "data": {
      "image/png": "[encoded data removed]",
      "text/plain": [
       "<Figure size 432x288 with 1 Axes>"
      ]
     },
     "metadata": {
      "needs_background": "light"
     },
     "output_type": "display_data"
    }
   ],
   "source": [
    "value_counts = df_temp[df_temp['fold'] ==1]['KL_Grade'].value_counts().sort_index()\n",
    "\n",
    "plt.bar(range(len(value_counts)), value_counts.values, align='center')\n",
    "plt.xticks(range(len(value_counts)), value_counts.index.values)\n",
    "\n",
    "plt.tight_layout()\n",
    "plt.show()"
   ]
  },
  {
   "cell_type": "code",
   "execution_count": 27,
   "id": "0dad42b3",
   "metadata": {},
   "outputs": [
    {
     "data": {
      "image/png": "[encoded data removed]",
      "text/plain": [
       "<Figure size 432x288 with 1 Axes>"
      ]
     },
     "metadata": {
      "needs_background": "light"
     },
     "output_type": "display_data"
    }
   ],
   "source": [
    "value_counts = df_temp[df_temp['fold'] ==2]['KL_Grade'].value_counts().sort_index()\n",
    "\n",
    "plt.bar(range(len(value_counts)), value_counts.values, align='center')\n",
    "plt.xticks(range(len(value_counts)), value_counts.index.values)\n",
    "\n",
    "plt.tight_layout()\n",
    "plt.show()"
   ]
  },
  {
   "cell_type": "code",
   "execution_count": 28,
   "id": "7ee0c63a",
   "metadata": {},
   "outputs": [
    {
     "data": {
      "image/png": "[encoded data removed]",
      "text/plain": [
       "<Figure size 432x288 with 1 Axes>"
      ]
     },
     "metadata": {
      "needs_background": "light"
     },
     "output_type": "display_data"
    }
   ],
   "source": [
    "value_counts = df_temp[df_temp['fold'] ==3]['KL_Grade'].value_counts().sort_index()\n",
    "\n",
    "plt.bar(range(len(value_counts)), value_counts.values, align='center')\n",
    "plt.xticks(range(len(value_counts)), value_counts.index.values)\n",
    "\n",
    "plt.tight_layout()\n",
    "plt.show()"
   ]
  },
  {
   "cell_type": "code",
   "execution_count": 29,
   "id": "5170f0bc",
   "metadata": {},
   "outputs": [
    {
     "data": {
      "image/png": "[encoded data removed]",
      "text/plain": [
       "<Figure size 432x288 with 1 Axes>"
      ]
     },
     "metadata": {
      "needs_background": "light"
     },
     "output_type": "display_data"
    }
   ],
   "source": [
    "value_counts = df_temp[df_temp['fold'] ==4]['KL_Grade'].value_counts().sort_index()\n",
    "\n",
    "plt.bar(range(len(value_counts)), value_counts.values, align='center')\n",
    "plt.xticks(range(len(value_counts)), value_counts.index.values)\n",
    "\n",
    "plt.tight_layout()\n",
    "plt.show()"
   ]
  },
  {
   "cell_type": "code",
   "execution_count": 30,
   "id": "533b7eef",
   "metadata": {},
   "outputs": [
    {
     "data": {
      "image/png": "[encoded data removed]",
      "text/plain": [
       "<Figure size 432x288 with 1 Axes>"
      ]
     },
     "metadata": {
      "needs_background": "light"
     },
     "output_type": "display_data"
    }
   ],
   "source": [
    "value_counts = df_temp[df_temp['fold'] ==5]['KL_Grade'].value_counts().sort_index()\n",
    "\n",
    "plt.bar(range(len(value_counts)), value_counts.values, align='center')\n",
    "plt.xticks(range(len(value_counts)), value_counts.index.values)\n",
    "\n",
    "plt.tight_layout()\n",
    "plt.show()"
   ]
  },
  {
   "cell_type": "code",
   "execution_count": 32,
   "id": "02b7ecb3",
   "metadata": {},
   "outputs": [],
   "source": [
    "df_temp.to_csv('./data/grade/temp_kfold_024.csv', index=False) # 저장하기"
   ]
  },
  {
   "cell_type": "code",
   "execution_count": null,
   "id": "a421538a",
   "metadata": {},
   "outputs": [],
   "source": []
  },
  {
   "cell_type": "code",
   "execution_count": null,
   "id": "8bb00fb4",
   "metadata": {},
   "outputs": [],
   "source": []
  },
  {
   "cell_type": "code",
   "execution_count": null,
   "id": "b1de2223",
   "metadata": {},
   "outputs": [],
   "source": []
  }
 ],
 "metadata": {
  "kernelspec": {
   "display_name": "Python 3",
   "language": "python",
   "name": "python3"
  },
  "language_info": {
   "codemirror_mode": {
    "name": "ipython",
    "version": 3
   },
   "file_extension": ".py",
   "mimetype": "text/x-python",
   "name": "python",
   "nbconvert_exporter": "python",
   "pygments_lexer": "ipython3",
   "version": "3.6.8"
  }
 },
 "nbformat": 4,
 "nbformat_minor": 5
}
